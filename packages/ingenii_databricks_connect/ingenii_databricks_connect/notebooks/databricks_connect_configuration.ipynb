{
 "cells": [
  {
   "cell_type": "markdown",
   "id": "7974ccdb-89ce-4090-9b67-9ecd9c9cf03a",
   "metadata": {
    "tags": []
   },
   "source": [
    "# Databricks Connect Configuration\n",
    "\n",
    "This notebook will take you through the steps to set up your connection to your Databricks cluster using Databricks Connect.\n",
    "\n",
    "You will only need to run through this notebook once, after which you can start your notebooks with the `get_spark_context()` function."
   ]
  },
  {
   "cell_type": "markdown",
   "id": "541a5892-57f6-491d-8119-e9ea26a6a57b",
   "metadata": {},
   "source": [
    "## Get your personal cluster ID\n",
    "As part of enabling Databricks Connect, the platform will have created a personal cluster for you to use.\n",
    "\n",
    "To connect to it we broadcast most of the information into your workspace, apart from the cluster ID which, unfortunately, you'll have to get manually.\n",
    "\n",
    "Follow the steps below to find this ID, or ask your administrator if you don't have permission to access the workspace.\n",
    "\n",
    "### Steps to follow\n",
    "\n",
    "* The ID is in the form `xxxx-xxxxxx-xxxxxxxx`, all alphanumeric characters\n",
    "* Run the below cell to get your organisation's link to your Analytics Databricks workspace.\n",
    "* Click on the cluster that belongs to you. It should have a name similar to `singleuser-<your name>`\n",
    "* The cluster ID is in the URL this takes you to. Alternately, go to Configuration -> Advanced options -> Tags -> ClusterId\n",
    "* Copy this ID to the cell two down, and then run the cell to set the `cluster_id` variable"
   ]
  },
  {
   "cell_type": "code",
   "execution_count": null,
   "id": "63cd9704-9bbb-4031-baac-e0de49cde71e",
   "metadata": {},
   "outputs": [],
   "source": [
    "# Run this cell to print the URL, from which you can get your cluster ID\n",
    "from os import environ\n",
    "print(f\"{environ['DATABRICKS_ADDRESS']}/?o={environ['DATABRICKS_ORG_ID']}#setting/clusters\")"
   ]
  },
  {
   "cell_type": "code",
   "execution_count": null,
   "id": "4b866e11-a9ca-4a57-93bc-70dc3257af01",
   "metadata": {},
   "outputs": [],
   "source": [
    "# Add the cluster ID so it can be added to your configuration\n",
    "cluster_id = \"xxxx-xxxxxx-xxxxxxxx\""
   ]
  },
  {
   "cell_type": "markdown",
   "id": "54eb9407-adfa-447b-88c4-2e836a445230",
   "metadata": {},
   "source": [
    "## Configure your environmemt\n",
    "Run the below cell to set the configuration for your Databricks Connect program"
   ]
  },
  {
   "cell_type": "code",
   "execution_count": null,
   "id": "de36675f-fe48-4c2b-a830-d2da61229bff",
   "metadata": {},
   "outputs": [],
   "source": [
    "from json import dump\n",
    "\n",
    "if not cluster_id:\n",
    "    raise Exception(\"Add the cluster ID to cell above, and run it to set the variable\")\n",
    "\n",
    "configuration = {\n",
    "    \"host\": environ[\"DATABRICKS_ADDRESS\"],\n",
    "    \"token\": \"\",\n",
    "    \"cluster_id\": cluster_id,\n",
    "    \"org_id\": environ[\"DATABRICKS_ORG_ID\"],\n",
    "    \"port\": environ[\"DATABRICKS_PORT\"]\n",
    "}\n",
    "\n",
    "with open(f\"{environ['HOME']}/.databricks-connect\", \"w\") as dbc_config:\n",
    "    dump(configuration, dbc_config, indent=\"  \")\n"
   ]
  },
  {
   "cell_type": "markdown",
   "id": "fb16d5cc-b664-49cb-bf89-a93616e2fd0b",
   "metadata": {},
   "source": [
    "## Get your Azure permissions\n",
    "If you have not done this yet, you will need to use the `az` command line tool to connect to Azure.\n",
    "\n",
    "Open a terminal using the JupyterLab launcher, and run `az login`. Follow the instructions to get yourself set up.\n"
   ]
  },
  {
   "cell_type": "markdown",
   "id": "636abd0e",
   "metadata": {},
   "source": [
    "## Using Databricks Connect\n",
    "Below is an example of how to get your Spark context and run commands in your Databricks Workspace. You can use this to get started with your own notebooks."
   ]
  },
  {
   "cell_type": "code",
   "execution_count": null,
   "id": "701a2afa-c57e-4836-b0de-1dd29e7551ff",
   "metadata": {},
   "outputs": [],
   "source": [
    "# Example of how to use the spark context\n",
    "from ingenii_databricks_connect import get_spark_context\n",
    "\n",
    "spark = get_spark_context()\n",
    "\n",
    "for database in spark.sql(\"SHOW DATABASES\").collect():\n",
    "    print(database.databaseName)"
   ]
  },
  {
   "cell_type": "code",
   "execution_count": null,
   "id": "7fa00b43-91a0-4a8b-93a8-631512dc0b27",
   "metadata": {},
   "outputs": [],
   "source": []
  }
 ],
 "metadata": {
  "kernelspec": {
   "display_name": "Python 3 (ipykernel)",
   "language": "python",
   "name": "python3"
  },
  "language_info": {
   "codemirror_mode": {
    "name": "ipython",
    "version": 3
   },
   "file_extension": ".py",
   "mimetype": "text/x-python",
   "name": "python",
   "nbconvert_exporter": "python",
   "pygments_lexer": "ipython3",
   "version": "3.8.12"
  }
 },
 "nbformat": 4,
 "nbformat_minor": 5
}
